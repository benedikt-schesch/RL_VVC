{
 "cells": [
  {
   "cell_type": "code",
   "execution_count": null,
   "id": "1a42bfcb",
   "metadata": {},
   "outputs": [],
   "source": [
    "import pandas as pd\n",
    "import matplotlib.pyplot as plt\n",
    "import numpy as np"
   ]
  },
  {
   "cell_type": "code",
   "execution_count": null,
   "id": "12609b9d",
   "metadata": {},
   "outputs": [],
   "source": [
    "# load the datasets\n",
    "num_blocks = 70  # load 70 blocks. Each block has 50 customers\n",
    "\n",
    "df_all = [\n",
    "    pd.read_csv(\"./raw/London_halfhourly_dataset/block_{}.csv\".format(i)) for i in range(num_blocks)\n",
    "]\n",
    "\n",
    "# pivot each AMI file from the format:\n",
    "#             LCLid tstp energy(kWh/hh)\n",
    "# to the format:\n",
    "#             tstp, ID1, ID2, ..., IDN,\n",
    "for i in range(num_blocks):\n",
    "    df_all[i] = df_all[i].pivot(index=['tstp'], columns=['LCLid'], values='energy(kWh/hh)')\n",
    "    # change datetime format\n",
    "    df_all[i].index = df_all[i].index.astype('datetime64[ns]')\n",
    "\n",
    "# create a equally-spaced timestamp series\n",
    "timestamps = pd.date_range(start='2012-08-01 00:00:00', end='2014-02-28 00:00:00', freq='30min')"
   ]
  },
  {
   "cell_type": "code",
   "execution_count": null,
   "id": "ff1adfe6",
   "metadata": {},
   "outputs": [],
   "source": [
    "# join all blocks into one dataframe\n",
    "\n",
    "df = pd.DataFrame(index=timestamps)\n",
    "for d in df_all:\n",
    "    # join (join on the index by default)\n",
    "    df = df.join(d, how='left')\n",
    "print(df.shape)"
   ]
  },
  {
   "cell_type": "code",
   "execution_count": null,
   "id": "2b1531c9",
   "metadata": {},
   "outputs": [],
   "source": [
    "# visualize nan\n",
    "\n",
    "plt.imshow(df.to_numpy(dtype=np.float32), aspect='auto')\n",
    "print(df.shape)"
   ]
  },
  {
   "cell_type": "code",
   "execution_count": null,
   "id": "36b8687f",
   "metadata": {},
   "outputs": [],
   "source": [
    "# drop customers with too many nans\n",
    "\n",
    "# hint: dropna(thresh=k, axis='columns'): keep columns with at least k non-nan values \n",
    "df = df.dropna(thresh=int(df.shape[0]*0.9), axis='columns')\n",
    "\n",
    "plt.figure(figsize=(12 *10, 8 *10))\n",
    "plt.imshow(df.to_numpy(dtype=np.float32), aspect='auto')\n",
    "print(df.shape)\n",
    "print('percentage of NaN: {} * 100%'.format(df.isna().sum().sum()/(df.shape[0] * df.shape[1]) * 100.))"
   ]
  },
  {
   "cell_type": "code",
   "execution_count": null,
   "id": "a757599f",
   "metadata": {},
   "outputs": [],
   "source": [
    "# matrix factorization to fill the remaining nans\n",
    "# since the full matrix takes so long, we divide it into a few chunks and process each chunk individually.\n",
    "\n",
    "from fancyimpute import MatrixFactorization\n",
    "chunks = 5\n",
    "size_each_chunk = df.shape[0] // chunks\n",
    "dfp = []\n",
    "for i in range(chunks):\n",
    "    dfp1 = MatrixFactorization(rank=10, epochs=200, \n",
    "                learning_rate=0.01).fit_transform(df.iloc[i*size_each_chunk:(i+1)*size_each_chunk, :])\n",
    "    dfp.append(dfp1)\n",
    "dfp1 = MatrixFactorization(rank=10, epochs=200, \n",
    "                learning_rate=0.01).fit_transform(df.iloc[chunks*size_each_chunk:, :])\n",
    "dfp.append(dfp1)\n",
    "dfp = np.vstack(dfp)\n"
   ]
  },
  {
   "cell_type": "code",
   "execution_count": null,
   "id": "ce90d6f4",
   "metadata": {},
   "outputs": [],
   "source": [
    "# visualize nan (should be no nan at this point)\n",
    "\n",
    "plt.figure(figsize=(12 *10, 8 *10))\n",
    "plt.imshow(dfp, aspect='auto')\n",
    "print(dfp.shape)"
   ]
  },
  {
   "cell_type": "code",
   "execution_count": null,
   "id": "cae6309f",
   "metadata": {},
   "outputs": [],
   "source": [
    "# aggregate every 5 meters\n",
    "\n",
    "df = pd.DataFrame(dfp)\n",
    "df_agg = df.astype(float).groupby(np.arange(len(df.columns))//5, axis=1).mean()\n"
   ]
  },
  {
   "cell_type": "code",
   "execution_count": null,
   "id": "97f35e2c",
   "metadata": {},
   "outputs": [],
   "source": [
    "# save\n",
    "\n",
    "df_agg.to_csv('./processed/first_{}_ami_aggto_{}.csv'.format(df.shape[1], df_agg.shape[1]), header=False, index=False)\n",
    "df.to_csv('./processed/first_{}_ami.csv'.format(df.shape[1]), header=False, index=False)"
   ]
  }
 ],
 "metadata": {
  "kernelspec": {
   "display_name": "Python 3 (ipykernel)",
   "language": "python",
   "name": "python3"
  },
  "language_info": {
   "codemirror_mode": {
    "name": "ipython",
    "version": 3
   },
   "file_extension": ".py",
   "mimetype": "text/x-python",
   "name": "python",
   "nbconvert_exporter": "python",
   "pygments_lexer": "ipython3",
   "version": "3.7.16"
  }
 },
 "nbformat": 4,
 "nbformat_minor": 5
}
